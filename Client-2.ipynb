{
 "cells": [
  {
   "cell_type": "code",
   "execution_count": null,
   "id": "99e30dc4-bae3-4156-8740-4b33e1320580",
   "metadata": {},
   "outputs": [],
   "source": [
    "import threading as th, os, socket as sc, pickle as pc, sys"
   ]
  },
  {
   "cell_type": "code",
   "execution_count": null,
   "id": "4d481dee-6a0c-46a4-8e94-707c847649d6",
   "metadata": {},
   "outputs": [],
   "source": [
    "class Client():\n",
    "    \n",
    "    def _init_(self, host = sc.gethostname(), port = int (input(\"Intriduce Port\")), nick = input(\"Isert your nickname\")):\n",
    "       \n",
    "        \n",
    "        self.s = sc.socket()\n",
    "        self.s.connect((host, puerto))\n",
    "        self.send('$' + nick)\n",
    "        th.Thread(target = self.recive, daemon = True).start()\n",
    "        \n",
    "        while True:\n",
    "            msg = input (\"Insert your IP address \")\n",
    "            msg = input (\"Type a massage  <<Enter= Enviar --> 1 = leave / salir \")\n",
    "            if msg == '1': self.send(msg)\n",
    "            else:\n",
    "                self.s.close()\n",
    "                sys.exit(\"GoodBye\")\n",
    "                \n",
    "            \n",
    "            "
   ]
  },
  {
   "cell_type": "code",
   "execution_count": null,
   "id": "7c1a2b85-f067-4454-b3d3-d32e18780b08",
   "metadata": {},
   "outputs": [],
   "source": []
  },
  {
   "cell_type": "code",
   "execution_count": null,
   "id": "ab4c60f5-0fd7-4d4a-b613-f27690b3ba3a",
   "metadata": {},
   "outputs": [],
   "source": []
  }
 ],
 "metadata": {
  "kernelspec": {
   "display_name": "Python 3 (ipykernel)",
   "language": "python",
   "name": "python3"
  },
  "language_info": {
   "codemirror_mode": {
    "name": "ipython",
    "version": 3
   },
   "file_extension": ".py",
   "mimetype": "text/x-python",
   "name": "python",
   "nbconvert_exporter": "python",
   "pygments_lexer": "ipython3",
   "version": "3.10.7"
  },
  "toc-autonumbering": true,
  "toc-showtags": false
 },
 "nbformat": 4,
 "nbformat_minor": 5
}
