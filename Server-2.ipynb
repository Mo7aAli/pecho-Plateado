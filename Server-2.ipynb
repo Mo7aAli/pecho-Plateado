{
 "cells": [
  {
   "cell_type": "code",
   "execution_count": null,
   "id": "d075dcac-a139-4921-aff4-577ce9b9150a",
   "metadata": {},
   "outputs": [],
   "source": [
    "import threading as th, os, socket as sc, pickle as pc, sys"
   ]
  },
  {
   "cell_type": "code",
   "execution_count": null,
   "id": "a5132c5d-3d83-45e2-a25e-5963237ce006",
   "metadata": {},
   "outputs": [],
   "source": [
    "class Server(): #para instanciar \n",
    "    \n",
    "    def __init__(self, host=sc.gethostbyname(sc.gethostname()),port = int (input(\"Insert your port\")), nick = input (\"Type your nickname\")):\n",
    "        \n",
    "        self.nicks = []\n",
    "        self.clients = []\n",
    "        \n",
    "        \n",
    "        \n",
    "        \n",
    "        self.s = sc.socket()#here we creat the cocket\n",
    "        self.s.bind((host,port))#We associate the socket to the ip and port\n",
    "        self.s.setblocking(False)#avoid blocking\n",
    "        self.s.listen(10)#Numbers of time before refusing conn\n",
    "        \n",
    "        th.Thread(target = self.accept, daemon = True).start()\n",
    "        th.Thread(target = self.process, daemon = True).start()\n",
    "        \n",
    "        \n",
    "         \n",
    "      \n",
    "    \n",
    "    while True:\n",
    "            msg= input('Type your text here <<Enter = Enviar    1 = (Salir = leave) ')\n",
    "            if msg == '1':\n",
    "                self.s.close\n",
    "                sys.exit( nick + \" Left\")\n",
    "                \n",
    "            else: pass \n",
    "        \n",
    "       \n",
    "        \n",
    "    \n",
    "    def accept(self):\n",
    "        while True:\n",
    "            conn, addr = s.accept()\n",
    "            conn.setblocking(False)\n",
    "            print(f'Conn accepted by {addr}\\n')\n",
    "            self.clients.append(conn)\n",
    "            \n",
    "    def process(self):\n",
    "        while True:\n",
    "            if len(self.clients)>0:\n",
    "                for c in self.clients:\n",
    "                    data = c.recv(32)\n",
    "                    msg = pc.loads(data)\n",
    "                    if data:self.broad(data, c)\n",
    "        \n",
    "    def broad(self,msg,client):\n",
    "        for c in self.clients:\n",
    "            print('connected :' , len(self.clients))\n",
    "            print(*self.nicks, sep=\"\\n\")\n",
    "            if len(self.nicks)>0:\n",
    "                for n in self.clients:\n",
    "                    if n ==client:\n",
    "                        num = self.client.index(n)\n",
    "            msg_nick= self.nicks[num]+ \".\" + pc.loads(msg)\n",
    "            print(msg_nick)\n",
    "            c.send(pc.dump(msg_nick))\n",
    "            \n",
    "            with open ('mi_exp.txt' , 'a') as f:\n",
    "                f.write('\\n' + msg_nick)\n",
    "                \n",
    "                \n",
    "                \n",
    "                \n",
    "start = Server()        "
   ]
  },
  {
   "cell_type": "code",
   "execution_count": null,
   "id": "f835c7b7-8120-4fac-93ed-c1ca225e596c",
   "metadata": {},
   "outputs": [],
   "source": [
    "!ping 127.0.0.1"
   ]
  },
  {
   "cell_type": "code",
   "execution_count": null,
   "id": "e28c974c-9428-48fd-8094-1375575a15b0",
   "metadata": {},
   "outputs": [],
   "source": [
    "while True:\n",
    "    with open ('mi_exp.txt', 'a') as f:\n",
    "        nick = input(\"Type your nickname\")\n",
    "        f.write(nick)"
   ]
  },
  {
   "cell_type": "code",
   "execution_count": null,
   "id": "746ce48f-2356-4c52-9025-fd29d7fba533",
   "metadata": {},
   "outputs": [],
   "source": [
    "nick"
   ]
  },
  {
   "cell_type": "code",
   "execution_count": null,
   "id": "ecdb1403-e604-4660-b747-3eeb373c1a59",
   "metadata": {},
   "outputs": [],
   "source": [
    "nick.append('mohaa')"
   ]
  },
  {
   "cell_type": "code",
   "execution_count": null,
   "id": "8e79ee6d-3b9a-4de9-a9b1-86ec0f346073",
   "metadata": {},
   "outputs": [],
   "source": [
    "print('Connected: ', len(nick))"
   ]
  },
  {
   "cell_type": "code",
   "execution_count": null,
   "id": "110c0000-b7d2-44cf-a12d-fd2617af97d2",
   "metadata": {},
   "outputs": [],
   "source": [
    " sys.exit(\"Session closed by user \")"
   ]
  },
  {
   "cell_type": "code",
   "execution_count": null,
   "id": "b004b2bf-aa4b-4117-b545-7c96ec4475a8",
   "metadata": {},
   "outputs": [],
   "source": []
  },
  {
   "cell_type": "code",
   "execution_count": null,
   "id": "b10c5059-74a5-4f07-900c-30fdfd3155ab",
   "metadata": {},
   "outputs": [],
   "source": [
    "s = sc.socket()"
   ]
  },
  {
   "cell_type": "code",
   "execution_count": null,
   "id": "dd271c1a-c839-44a9-bdc7-b50d5c015722",
   "metadata": {},
   "outputs": [],
   "source": [
    "sc.gethostname()"
   ]
  },
  {
   "cell_type": "code",
   "execution_count": null,
   "id": "4bbc1a56-6b1d-4d08-a10e-aa2b35b1998a",
   "metadata": {},
   "outputs": [],
   "source": [
    "host"
   ]
  },
  {
   "cell_type": "code",
   "execution_count": null,
   "id": "aa688b10-d7aa-4be4-8111-0ca34518ec5b",
   "metadata": {},
   "outputs": [],
   "source": [
    "while True:\n",
    "    msg = input ('Type a masage <<Enter= Enviar  1 = leave / Salir')\n",
    "    if msg == '1':\n",
    "        print (\"Salgo del while y cierro el socket\")\n",
    "        sys.exit(\"Session closed Successfuly by user \")\n",
    "    else:\n",
    "        print(\"Entering to pass\")\n",
    "        pass\n",
    "    print(\" Leaving else\")"
   ]
  },
  {
   "cell_type": "code",
   "execution_count": null,
   "id": "643b6a9a-f48e-44b2-9db3-653aea3fba27",
   "metadata": {},
   "outputs": [],
   "source": []
  }
 ],
 "metadata": {
  "kernelspec": {
   "display_name": "Python 3 (ipykernel)",
   "language": "python",
   "name": "python3"
  },
  "language_info": {
   "codemirror_mode": {
    "name": "ipython",
    "version": 3
   },
   "file_extension": ".py",
   "mimetype": "text/x-python",
   "name": "python",
   "nbconvert_exporter": "python",
   "pygments_lexer": "ipython3",
   "version": "3.10.7"
  }
 },
 "nbformat": 4,
 "nbformat_minor": 5
}
